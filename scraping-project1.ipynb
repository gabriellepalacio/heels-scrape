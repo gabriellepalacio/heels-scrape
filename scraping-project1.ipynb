{
 "cells": [
  {
   "cell_type": "code",
   "execution_count": 21,
   "metadata": {},
   "outputs": [
    {
     "ename": "ModuleNotFoundError",
     "evalue": "No module named 'scrapy'",
     "output_type": "error",
     "traceback": [
      "\u001b[0;31m\u001b[0m",
      "\u001b[0;31mModuleNotFoundError\u001b[0mTraceback (most recent call last)",
      "\u001b[0;32m<ipython-input-21-c92eb4a137aa>\u001b[0m in \u001b[0;36m<module>\u001b[0;34m()\u001b[0m\n\u001b[1;32m      3\u001b[0m \u001b[0;34m\u001b[0m\u001b[0m\n\u001b[1;32m      4\u001b[0m \u001b[0;32mimport\u001b[0m \u001b[0mrequests\u001b[0m\u001b[0;34m\u001b[0m\u001b[0m\n\u001b[0;32m----> 5\u001b[0;31m \u001b[0;32mimport\u001b[0m \u001b[0mscrapy\u001b[0m\u001b[0;34m\u001b[0m\u001b[0m\n\u001b[0m",
      "\u001b[0;31mModuleNotFoundError\u001b[0m: No module named 'scrapy'"
     ]
    }
   ],
   "source": [
    "import json\n",
    "import re\n",
    "\n",
    "import requests\n",
    "import scrapy"
   ]
  },
  {
   "cell_type": "code",
   "execution_count": null,
   "metadata": {},
   "outputs": [],
   "source": [
    "headers = {'User-Agent': 'UNC Journo Class'}\n"
   ]
  },
  {
   "cell_type": "code",
   "execution_count": null,
   "metadata": {},
   "outputs": [],
   "source": [
    "base_url = 'http://goheels.com'\n",
    "url = base_url + '/roster.aspx?path=baseball'"
   ]
  },
  {
   "cell_type": "code",
   "execution_count": null,
   "metadata": {},
   "outputs": [],
   "source": [
    "resp = requests.get(url, headers=headers)"
   ]
  },
  {
   "cell_type": "code",
   "execution_count": null,
   "metadata": {},
   "outputs": [],
   "source": [
    "body_str = resp.content.decode('utf-8')"
   ]
  },
  {
   "cell_type": "code",
   "execution_count": null,
   "metadata": {},
   "outputs": [],
   "source": [
    "data = json.load(open('players-scraped.json'))"
   ]
  },
  {
   "cell_type": "code",
   "execution_count": null,
   "metadata": {},
   "outputs": [],
   "source": [
    "sel = scrapy.Selector(text=body_str)"
   ]
  },
  {
   "cell_type": "code",
   "execution_count": null,
   "metadata": {},
   "outputs": [],
   "source": [
    "table = sel.css('table')[0]"
   ]
  },
  {
   "cell_type": "code",
   "execution_count": null,
   "metadata": {},
   "outputs": [],
   "source": [
    "cols = table.css('th').xpath('string()').extract()"
   ]
  },
  {
   "cell_type": "code",
   "execution_count": null,
   "metadata": {},
   "outputs": [],
   "source": [
    "rows = table.css('tr')[1:]\n"
   ]
  },
  {
   "cell_type": "code",
   "execution_count": null,
   "metadata": {},
   "outputs": [],
   "source": [
    "data_for_df = []"
   ]
  },
  {
   "cell_type": "code",
   "execution_count": null,
   "metadata": {},
   "outputs": [],
   "source": [
    "players = []\n",
    "for r in rows:\n",
    "    data = {}\n",
    "    for i, d in enumerate(r.css('td')):\n",
    "        a = d.css('a')\n",
    "        if a:\n",
    "            t = a.xpath('text()').extract()[0]\n",
    "            data['href'] = a.xpath('@href').extract()[0]\n",
    "        else:\n",
    "            t = d.xpath('text()').extract()[0]\n",
    "        data[cols[i]] = t\n",
    "    players.append(data)"
   ]
  },
  {
   "cell_type": "code",
   "execution_count": null,
   "metadata": {},
   "outputs": [],
   "source": [
    "def fetch_bio(player):\n",
    "    player_url = base_url + player['href']\n",
    "    print('Fetch bio', player_url)\n",
    "    resp = requests.get(player_url, headers=headers)\n",
    "    player_txt = resp.content.decode('utf-8')\n",
    "    sel = scrapy.Selector(text=player_txt)\n",
    "    player['sel'] = sel\n",
    "    player['bio'] = sel.css('#sidearm-roster-player-bio').xpath('string()').extract()[0]\n",
    "    player['img'] = sel.css('.sidearm-roster-player-image img').xpath('@src').extract()[0]"
   ]
  },
  {
   "cell_type": "code",
   "execution_count": null,
   "metadata": {},
   "outputs": [],
   "source": [
    "js_obj_rx = re.compile(r'.*?responsive-roster-bio\\.ashx.*?(?P<obj>{.*?})')"
   ]
  },
  {
   "cell_type": "code",
   "execution_count": null,
   "metadata": {},
   "outputs": [],
   "source": [
    "def fetch_stats(player):\n",
    "    text = player['sel'].xpath('string()').extract()[0]\n",
    "    parts = text.split('$.getJSON(\"/services/')[1:]\n",
    "    captured = js_obj_rx.findall(''.join(parts))\n",
    "    clean_objs = []\n",
    "    for obj_str in captured:\n",
    "        # We only want the stats object...\n",
    "        if 'stats' not in obj_str:\n",
    "            continue\n",
    "\n",
    "        obj_str = obj_str.replace('{', '').replace('}', '')\n",
    "        obj_str = obj_str.replace(\"'\", '').replace('\"', '')\n",
    "        obj_pairs = obj_str.split(',')\n",
    "        obj_pairs = [x.split(\":\") for x in obj_pairs]\n",
    "        clean_pairs = []\n",
    "        for pair in obj_pairs:\n",
    "            clean_pairs.append(['\"{}\"'.format(p.strip()) for p in pair])\n",
    "        colonized = [\":\".join(p) for p in clean_pairs]\n",
    "        commas = ','.join(colonized)\n",
    "        json_str = \"{\" + commas + \"}\"\n",
    "        clean_objs.append(json.loads(json_str))\n",
    "    \n",
    "    player['stats_url'] = stats_url = (\n",
    "        \"http://goheels.com/services/responsive-roster-bio.ashx?\"\n",
    "        \"type={type}&rp_id={rp_id}&path={path}&year={year}\"\n",
    "        \"&player_id={player_id}\"\n",
    "    ).format(**clean_objs[0])\n",
    "    \n",
    "    print('Fetch stats', stats_url)\n",
    "    resp = requests.get(stats_url, headers=headers)\n",
    "    json_stats = json.loads(resp.content.decode(\"utf-8\"))\n",
    "    player['raw_stats'] = json_stats"
   ]
  },
  {
   "cell_type": "code",
   "execution_count": null,
   "metadata": {},
   "outputs": [],
   "source": [
    "\n",
    "for p in players:\n",
    "    fetch_bio(p)\n",
    "    fetch_stats(p)"
   ]
  },
  {
   "cell_type": "code",
   "execution_count": null,
   "metadata": {},
   "outputs": [],
   "source": [
    "players = []\n",
    "for r in rows:\n",
    "    data = {}\n",
    "    for i, d in enumerate(r.css('td')):\n",
    "        a = d.css('a')\n",
    "        if a:\n",
    "            t = a.xpath('text()').extract()[0]\n",
    "            data['href'] = a.xpath('@href').extract()[0]\n",
    "        else:\n",
    "            t = d.xpath('text()').extract()[0]\n",
    "        data[cols[i]] = t\n",
    "    players.append(data)"
   ]
  },
  {
   "cell_type": "code",
   "execution_count": null,
   "metadata": {},
   "outputs": [],
   "source": [
    "players[0]"
   ]
  },
  {
   "cell_type": "code",
   "execution_count": null,
   "metadata": {},
   "outputs": [],
   "source": [
    "def fetch_bio(player):\n",
    "    #unique player url\n",
    "    player_url = base_url + player['href']\n",
    "    #make request to player page\n",
    "    resp = requests.get(player_url, headers=headers)\n",
    "    #turn page into html\n",
    "    player_txt = resp.content.decode('utf-8')\n",
    "    #select the text on the page\n",
    "    sel = scrapy.Selector(text=player_txt)\n",
    "    player['sel'] = sel\n",
    "    player['bio'] = sel.css('#sidearm-roster-player-bio').xpath('string()').extract()[0]\n",
    "    player['img'] = sel.css('.sidearm-roster-player-image img').xpath('@src').extract()[0]"
   ]
  },
  {
   "cell_type": "code",
   "execution_count": null,
   "metadata": {},
   "outputs": [],
   "source": [
    "p = [p for p in players if p['Full Name'] == 'Tyler Baum'][0]\n",
    "txt = p['raw_stats']['career_stats']"
   ]
  },
  {
   "cell_type": "code",
   "execution_count": null,
   "metadata": {},
   "outputs": [],
   "source": [
    "sel = scrapy.Selector(text=txt)\n",
    "sel.css('section'"
   ]
  },
  {
   "cell_type": "code",
   "execution_count": null,
   "metadata": {},
   "outputs": [],
   "source": [
    "def parse_stats(player):\n",
    "    stats = {}\n",
    "    for raw_key, raw_val in player['raw_stats'].items():\n",
    "        txt = player['raw_stats'][raw_key]\n",
    "        if not txt:\n",
    "            print('Skipping {} for {}'.format(raw_key, player['Full Name']))\n",
    "            continue\n",
    "        sel = scrapy.Selector(text=txt)\n",
    "        # Get all the tables\n",
    "        for section in sel.css('section'):\n",
    "            title = section.css('h5').xpath('string()').extract()[0]\n",
    "            cols = section.css('tr')[0].css('th').xpath('string()').extract()\n",
    "            print('NEW SECTION', title)\n",
    "            print('COLS', cols)\n",
    "            these_stats = []\n",
    "            print('TRS', section.css('tr'))\n",
    "            for r in section.css('tr')[1:]:\n",
    "                print('row', r.xpath('string()').extract()[0].replace('\\r', '').replace('\\n', '').strip())\n",
    "                s = {}\n",
    "                for i, d in enumerate(r.css('td'), 1):\n",
    "                    s[cols[i].lower()] = d.xpath('string()').extract()[0]\n",
    "                yr = r.css('th').xpath('string()')\n",
    "                if yr:\n",
    "                    yr = yr.extract()[0]\n",
    "                    if yr.lower() in ('total', 'season'):\n",
    "                        print('SKIPPING...')\n",
    "                        continue\n",
    "                    print('THE YR IS', yr)\n",
    "                    s['year'] = yr\n",
    "                these_stats.append(s)\n",
    "                print('THE STATS ARE', these_stats)\n",
    "            existing = stats.get(raw_key, {})\n",
    "            existing[title] = these_stats\n",
    "            stats[raw_key] = existing\n",
    "    player['stats'] = stats"
   ]
  },
  {
   "cell_type": "code",
   "execution_count": null,
   "metadata": {},
   "outputs": [],
   "source": [
    "data[0]"
   ]
  },
  {
   "cell_type": "code",
   "execution_count": null,
   "metadata": {},
   "outputs": [],
   "source": []
  }
 ],
 "metadata": {
  "kernelspec": {
   "display_name": "Python 3",
   "language": "python",
   "name": "python3"
  },
  "language_info": {
   "codemirror_mode": {
    "name": "ipython",
    "version": 3
   },
   "file_extension": ".py",
   "mimetype": "text/x-python",
   "name": "python",
   "nbconvert_exporter": "python",
   "pygments_lexer": "ipython3",
   "version": "3.6.3"
  }
 },
 "nbformat": 4,
 "nbformat_minor": 2
}
